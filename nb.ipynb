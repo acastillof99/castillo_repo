{
 "cells": [
  {
   "attachments": {},
   "cell_type": "markdown",
   "metadata": {},
   "source": [
    "VAMOS A SUBIR OTRA PRUEBA"
   ]
  },
  {
   "attachments": {},
   "cell_type": "markdown",
   "metadata": {},
   "source": [
    "LA CARPETA DONDE SE GUARDAN TODOS LOS ARCHIVOS ES GIT"
   ]
  },
  {
   "attachments": {},
   "cell_type": "markdown",
   "metadata": {},
   "source": [
    "COMIT: EN VEZ DE GUARDAR EN LA MEMORIA DEL ORDEADOR, GENERAS UNA SNAPSHOT DE LOS CAMBIOS, PERO SIN LLEGAR A SUBIR ESOS CAMBIOS A TU REPOSITORIO\n",
    "PUSH: SUBES LOS CAMBIOS REALIZADOS EN EL FICHERO A GITHUB (TIENES UNA COPIA DE LOS CAMBIOS)"
   ]
  }
 ],
 "metadata": {
  "kernelspec": {
   "display_name": "base",
   "language": "python",
   "name": "python3"
  },
  "language_info": {
   "codemirror_mode": {
    "name": "ipython",
    "version": 3
   },
   "file_extension": ".py",
   "mimetype": "text/x-python",
   "name": "python",
   "nbconvert_exporter": "python",
   "pygments_lexer": "ipython3",
   "version": "3.9.13"
  },
  "orig_nbformat": 4,
  "vscode": {
   "interpreter": {
    "hash": "041e0a592229f1f16eb35c90c54655562c6b770fd22c3937c2a25ac12176a45a"
   }
  }
 },
 "nbformat": 4,
 "nbformat_minor": 2
}
